{
 "cells": [
  {
   "cell_type": "code",
   "execution_count": 1,
   "metadata": {
    "collapsed": true
   },
   "outputs": [],
   "source": [
    "import numpy\n",
    "import pyalps"
   ]
  },
  {
   "cell_type": "code",
   "execution_count": 7,
   "metadata": {
    "collapsed": true
   },
   "outputs": [],
   "source": [
    "#prepare the input parameters\n",
    "parms = []\n",
    "value_u = [10,20,40,80,100,200,400] \n",
    "for u in  value_u:\n",
    "    parms.append(\n",
    "            { \n",
    "          'LATTICE'                   : \"chain lattice\",       \n",
    "          #'LATTICE'                   : \"square lattice\", \n",
    "          'MODEL'                     : 'fermion Hubbard', \n",
    "          'LATTICE_LIBRARY'           : 'lattices.xml',\n",
    "          'U'                         : u,\n",
    "          'Nup_total'                 : 2,\n",
    "          'Ndown_total'               : 2,\n",
    "          #'mu'                        : 1,\n",
    "          'T'                         : 1,\n",
    "          'THERMALIZATION'            : 20000,\n",
    "          'SWEEPS'                    : 60000,\n",
    "          'L'                         : 8,#size of lattice\n",
    "          #'L'                         : 2,#size of lattice\n",
    "          'h'                         : 0,#magnetic field in z direction\n",
    "          'NUMBER_EIGENVALUES'        : 2,\n",
    "          #'TOTAL_MOMENTUM'            : 0,\n",
    "          'SEED'                      : 0\n",
    "            }\n",
    "    )\n",
    "   \n",
    "    "
   ]
  },
  {
   "cell_type": "code",
   "execution_count": 8,
   "metadata": {},
   "outputs": [
    {
     "name": "stdout",
     "output_type": "stream",
     "text": [
      "sparsediag Hubbard_chain_8.in.xml --write-xml\n"
     ]
    }
   ],
   "source": [
    "#write the input file and run the simulation\n",
    "input_file = pyalps.writeInputFiles('Hubbard_chain_8',parms)\n",
    "res = pyalps.runApplication('sparsediag',input_file,writexml=True)\n"
   ]
  },
  {
   "cell_type": "code",
   "execution_count": null,
   "metadata": {
    "collapsed": true
   },
   "outputs": [],
   "source": []
  }
 ],
 "metadata": {
  "kernelspec": {
   "display_name": "Python 2",
   "language": "python",
   "name": "python2"
  },
  "language_info": {
   "codemirror_mode": {
    "name": "ipython",
    "version": 2
   },
   "file_extension": ".py",
   "mimetype": "text/x-python",
   "name": "python",
   "nbconvert_exporter": "python",
   "pygments_lexer": "ipython2",
   "version": "2.7.14"
  }
 },
 "nbformat": 4,
 "nbformat_minor": 2
}
