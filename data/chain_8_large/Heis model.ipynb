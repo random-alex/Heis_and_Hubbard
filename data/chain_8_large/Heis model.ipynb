{
 "cells": [
  {
   "cell_type": "code",
   "execution_count": 31,
   "metadata": {},
   "outputs": [],
   "source": [
    "import numpy\n",
    "import pyalps"
   ]
  },
  {
   "cell_type": "code",
   "execution_count": 36,
   "metadata": {
    "collapsed": true
   },
   "outputs": [],
   "source": [
    "#prepare the input parameters\n",
    "parms = []\n",
    "#value_j = [0.4,0.2,0.1,0.05,0.04]\n",
    "value_j = [0.8 , 0.4444 , 0.3077 , 0.2353 , 0.1905 , 0.16 , 0.1379 , 0.1212 , 0.1081 , 0.0976 , 0.0889 , 0.0816 , 0.0755 , 0.0702 , 0.0656 , 0.0615 , 0.058]\n",
    "\n",
    "\n",
    "for j in  value_j:\n",
    "    parms.append(\n",
    "            { \n",
    "          'LATTICE'                   : \"chain lattice\",             \n",
    "          #'LATTICE'                   : \"square lattice\", \n",
    "          'MODEL'                     : \"spin\",\n",
    "          'LATTICE_LIBRARY'           : 'lattices.xml',\n",
    "          #   'MODEL_LIBRARY'         : 'models.xml',\n",
    "          'local_S'                   : 0.5,\n",
    "          #   'ALGORITHM'             : 'loop',\n",
    "          'T'                         : 1,\n",
    "          'J'                         : j ,\n",
    "          'THERMALIZATION'            : 20000,\n",
    "          'SWEEPS'                    : 60000,\n",
    "          #'L'                         : 2,#size of lattice\n",
    "          'L'                         : 8,#size of lattice \n",
    "          'h'                         : 0,#magnetic field in z direction\n",
    "          'NUMBER_EIGENVALUES'        : 2,\n",
    "                #'TOTAL_MOMENTUM'             : 0,\n",
    "          'SEED'                      : 0\n",
    "            }\n",
    "    )\n",
    "   \n",
    "    "
   ]
  },
  {
   "cell_type": "code",
   "execution_count": null,
   "metadata": {},
   "outputs": [
    {
     "name": "stdout",
     "output_type": "stream",
     "text": [
      "sparsediag Heiz_chain_8_large.in.xml --write-xml\n"
     ]
    }
   ],
   "source": [
    "\n",
    "#write the input file and run the simulation\n",
    "input_file = pyalps.writeInputFiles('Heiz_chain_8_large',parms)\n",
    "res = pyalps.runApplication('sparsediag',input_file,writexml=True)\n"
   ]
  }
 ],
 "metadata": {
  "kernelspec": {
   "display_name": "Python 2",
   "language": "python",
   "name": "python2"
  },
  "language_info": {
   "codemirror_mode": {
    "name": "ipython",
    "version": 2
   },
   "file_extension": ".py",
   "mimetype": "text/x-python",
   "name": "python",
   "nbconvert_exporter": "python",
   "pygments_lexer": "ipython2",
   "version": "2.7.14"
  }
 },
 "nbformat": 4,
 "nbformat_minor": 2
}
